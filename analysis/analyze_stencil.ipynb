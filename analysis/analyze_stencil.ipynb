{
 "cells": [
  {
   "cell_type": "code",
   "execution_count": 1,
   "id": "d230f9cb-3c9d-49ec-8dca-6c7d79f4c9e9",
   "metadata": {},
   "outputs": [],
   "source": [
    "%matplotlib inline\n",
    "%load_ext autoreload\n",
    "%autoreload 2\n",
    "%reload_ext autoreload\n",
    "\n",
    "import numpy as np\n",
    "import matplotlib.pyplot as plt\n",
    "import csv\n",
    "import math\n",
    "from matplotlib.ticker import FormatStrFormatter\n",
    "import matplotlib.pyplot as plt\n",
    "import matplotlib.ticker as mtick\n",
    "import pandas as pd\n",
    "import statsmodels.api as sm\n",
    "import scipy\n",
    "import seaborn as sns\n",
    "import re\n",
    "from collections import defaultdict\n",
    "from glob import glob\n",
    "\n",
    "# IMPORT MY LATEX SO I CAN USE \\TEXTSC\n",
    "import matplotlib as mpl\n",
    "mpl.rc('text', **{'usetex':True})\n",
    "import re\n",
    "plt.rc( 'font', family = 'serif')"
   ]
  },
  {
   "cell_type": "code",
   "execution_count": 154,
   "id": "ebbb790e-7903-42ae-b782-b12f9b03a668",
   "metadata": {},
   "outputs": [
    {
     "name": "stdout",
     "output_type": "stream",
     "text": [
      "../data/stencil/2021-08-26_scaling/strong_scaling_results\n"
     ]
    }
   ],
   "source": [
    "mpi_re = re.compile('\\S+_n(\\d+)_m(\\d+)_np(\\d+)_i(\\d+)_w(\\d+)_mpi\\.csv')\n",
    "charm_re = re.compile('\\S+_n(\\d+)_m(\\d+)_np(\\d+)_i(\\d+)_w(\\d+)_charm\\.csv')\n",
    "data_basedir = '../data/stencil/2021-08-26_scaling'\n",
    "strong_dir = f'{data_basedir}/strong_scaling_results'\n",
    "weak_dir = f'{data_basedir}/weak_scaling_results'\n",
    "print(strong_dir)\n",
    "strong_files = glob(f'{strong_dir}/*')\n",
    "weak_files = glob(f'{weak_dir}/*')"
   ]
  },
  {
   "cell_type": "code",
   "execution_count": 3,
   "id": "81b0630b-d041-43aa-8bce-da24925900ca",
   "metadata": {},
   "outputs": [
    {
     "ename": "NameError",
     "evalue": "name 'strong_files' is not defined",
     "output_type": "error",
     "traceback": [
      "\u001b[0;31m---------------------------------------------------------------------------\u001b[0m",
      "\u001b[0;31mNameError\u001b[0m                                 Traceback (most recent call last)",
      "\u001b[0;32m/tmp/ipykernel_29652/1631338026.py\u001b[0m in \u001b[0;36m<module>\u001b[0;34m\u001b[0m\n\u001b[1;32m      1\u001b[0m \u001b[0mstrong_df\u001b[0m \u001b[0;34m=\u001b[0m \u001b[0;32mNone\u001b[0m\u001b[0;34m\u001b[0m\u001b[0;34m\u001b[0m\u001b[0m\n\u001b[0;32m----> 2\u001b[0;31m \u001b[0;32mfor\u001b[0m \u001b[0mfile\u001b[0m \u001b[0;32min\u001b[0m \u001b[0mstrong_files\u001b[0m\u001b[0;34m:\u001b[0m\u001b[0;34m\u001b[0m\u001b[0;34m\u001b[0m\u001b[0m\n\u001b[0m\u001b[1;32m      3\u001b[0m     \u001b[0mdf\u001b[0m \u001b[0;34m=\u001b[0m \u001b[0mpd\u001b[0m\u001b[0;34m.\u001b[0m\u001b[0mread_csv\u001b[0m\u001b[0;34m(\u001b[0m\u001b[0mfile\u001b[0m\u001b[0;34m,\u001b[0m \u001b[0mcomment\u001b[0m\u001b[0;34m=\u001b[0m\u001b[0;34m'#'\u001b[0m\u001b[0;34m)\u001b[0m\u001b[0;34m\u001b[0m\u001b[0;34m\u001b[0m\u001b[0m\n\u001b[1;32m      4\u001b[0m     \u001b[0;31m# (for right now) only consider process 0\u001b[0m\u001b[0;34m\u001b[0m\u001b[0;34m\u001b[0m\u001b[0;34m\u001b[0m\u001b[0m\n\u001b[1;32m      5\u001b[0m     \u001b[0mdf\u001b[0m \u001b[0;34m=\u001b[0m \u001b[0mdf\u001b[0m\u001b[0;34m[\u001b[0m\u001b[0mdf\u001b[0m\u001b[0;34m[\u001b[0m\u001b[0;34m'Process'\u001b[0m\u001b[0;34m]\u001b[0m \u001b[0;34m==\u001b[0m \u001b[0;36m0\u001b[0m\u001b[0;34m]\u001b[0m\u001b[0;34m\u001b[0m\u001b[0;34m\u001b[0m\u001b[0m\n",
      "\u001b[0;31mNameError\u001b[0m: name 'strong_files' is not defined"
     ]
    }
   ],
   "source": [
    "strong_df = None\n",
    "for file in strong_files:\n",
    "    df = pd.read_csv(file, comment='#')\n",
    "    # (for right now) only consider process 0\n",
    "    df = df[df['Process'] == 0]\n",
    "    # skip warmup iterations\n",
    "    df = df[df['Iteration'] >= 10]\n",
    "    match_charm = charm_re.search(file)\n",
    "    match_mpi = mpi_re.search(file)\n",
    "    if match_mpi:\n",
    "        framework = 'mpi4py'\n",
    "        match = match_mpi\n",
    "    elif match_charm:\n",
    "        framework = 'Charm4Py'\n",
    "        match = match_charm\n",
    "    else:\n",
    "        print(f\"ERROR: {file} isn't named correctly.\")\n",
    "        continue\n",
    "    assert not (match_charm and match_mpi)\n",
    "    nprocs = int(match.group(3))\n",
    "    df['Num Processes'] = nprocs\n",
    "    # Get the mean for times across the 100 iterations\n",
    "    df = df.groupby('Num Processes').mean().reset_index(drop=False)\n",
    "    df['framework'] = framework\n",
    "    if strong_df is None:\n",
    "        strong_df = df.copy(deep=True)\n",
    "    else:\n",
    "        strong_df = pd.concat([strong_df, df]).reset_index(drop=True)\n",
    "        \n",
    "strong_df['Communication Time'] /= 1000"
   ]
  },
  {
   "cell_type": "code",
   "execution_count": 174,
   "id": "d7e7ef72-b9d1-48b7-be89-8befa61620c9",
   "metadata": {},
   "outputs": [
    {
     "data": {
      "text/plain": [
       "[Text(6, 0, '6'),\n",
       " Text(12, 0, '12'),\n",
       " Text(24, 0, '24'),\n",
       " Text(48, 0, '48'),\n",
       " Text(96, 0, '96'),\n",
       " Text(192, 0, '192'),\n",
       " Text(384, 0, '384'),\n",
       " Text(768, 0, '768')]"
      ]
     },
     "execution_count": 174,
     "metadata": {},
     "output_type": "execute_result"
    },
    {
     "data": {
      "image/png": "[encoded data removed]",
      "text/plain": [
       "<Figure size 360x288 with 1 Axes>"
      ]
     },
     "metadata": {},
     "output_type": "display_data"
    }
   ],
   "source": [
    "# for np, df in sorted(strong_dfs.items(), key=lambda x: int(x[0])):\n",
    "#     charm_mean = df[df['framework'] == 'Charm4Py']['Iteration Time'].mean()\n",
    "#     mpi_mean = df[df['framework'] == 'mpi4py']['Iteration Time'].mean()\n",
    "#     print(f\"{np},{charm_mean},{mpi_mean}\")\n",
    "    \n",
    "sns.set_style(\"whitegrid\")\n",
    "f, ax = plt.subplots(figsize=(5,4))\n",
    "sns.lineplot(x=\"Num Processes\", y=\"Communication Time\", data=strong_df,hue=\"framework\", style=\"framework\",\n",
    "              palette = ['green','black'],ax=ax,ci=99, markers=['s', 'd'],\n",
    "              linewidth=3, markersize=10)\n",
    "ax.legend(loc='upper left')\n",
    "ax.set_xlim(6, 768)\n",
    "ax.set_xscale(\"log\", base=2)\n",
    "# ax.set_yscale(\"log\", base=2)\n",
    "ax.set_xticks(sorted(set(strong_df['Num Processes']))) \n",
    "ax.set_xticklabels(sorted(set(strong_df['Num Processes']))) "
   ]
  },
  {
   "cell_type": "code",
   "execution_count": 160,
   "id": "7a4a390f-e9e3-4b72-aa03-7c8c34d15c30",
   "metadata": {},
   "outputs": [],
   "source": [
    "weak_df = None\n",
    "for file in weak_files:\n",
    "    df = pd.read_csv(file, comment='#')\n",
    "    # (for right now) only consider process 0\n",
    "    df = df[df['Process'] == 0]\n",
    "    # skip warmup iterations\n",
    "    df = df[df['Iteration'] >= 10]\n",
    "    match_charm = charm_re.search(file)\n",
    "    match_mpi = mpi_re.search(file)\n",
    "    if match_mpi:\n",
    "        framework = 'mpi4py'\n",
    "        match = match_mpi\n",
    "    elif match_charm:\n",
    "        framework = 'Charm4Py'\n",
    "        match = match_charm\n",
    "    else:\n",
    "        print(f\"ERROR: {file} isn't named correctly.\")\n",
    "        continue\n",
    "    assert not (match_charm and match_mpi)\n",
    "    nprocs = int(match.group(3))\n",
    "    df['Num Processes'] = nprocs\n",
    "    # Get the mean for times across the 100 iterations\n",
    "    df = df.groupby('Num Processes').mean().reset_index(drop=False)\n",
    "    df['framework'] = framework\n",
    "    if weak_df is None:\n",
    "        weak_df = df.copy(deep=True)\n",
    "    else:\n",
    "        weak_df = pd.concat([weak_df, df]).reset_index(drop=True)\n",
    "weak_df['Iteration Time'] *= 1000"
   ]
  },
  {
   "cell_type": "code",
   "execution_count": 161,
   "id": "16e507fe-dfbc-4695-9686-44bb82987dc5",
   "metadata": {},
   "outputs": [
    {
     "data": {
      "text/plain": [
       "[Text(6, 0, '6'),\n",
       " Text(12, 0, '12'),\n",
       " Text(24, 0, '24'),\n",
       " Text(48, 0, '48'),\n",
       " Text(96, 0, '96'),\n",
       " Text(192, 0, '192'),\n",
       " Text(384, 0, '384'),\n",
       " Text(768, 0, '768')]"
      ]
     },
     "execution_count": 161,
     "metadata": {},
     "output_type": "execute_result"
    },
    {
     "data": {
      "image/png": "[encoded data removed]",
      "text/plain": [
       "<Figure size 360x288 with 1 Axes>"
      ]
     },
     "metadata": {},
     "output_type": "display_data"
    }
   ],
   "source": [
    "# for np, df in sorted(strong_dfs.items(), key=lambda x: int(x[0])):\n",
    "#     charm_mean = df[df['framework'] == 'Charm4Py']['Iteration Time'].mean()\n",
    "#     mpi_mean = df[df['framework'] == 'mpi4py']['Iteration Time'].mean()\n",
    "#     print(f\"{np},{charm_mean},{mpi_mean}\")\n",
    "    \n",
    "sns.set_style(\"whitegrid\")\n",
    "f, ax = plt.subplots(figsize=(5,4))\n",
    "sns.lineplot(x=\"Num Processes\", y=\"Iteration Time\", data=weak_df,hue=\"framework\", style=\"framework\",\n",
    "              palette = ['green','black'],ax=ax,ci=99, markers=['s', 'd'],\n",
    "              linewidth=3, markersize=10)\n",
    "ax.legend(loc='upper left')\n",
    "ax.set_xlim(6, 768)\n",
    "ax.set_xscale(\"log\", base=2)\n",
    "# ax.set_yscale(\"log\", base=2)\n",
    "ax.set_xticks(sorted(set(weak_df['Num Processes']))) \n",
    "ax.set_xticklabels(sorted(set(weak_df['Num Processes']))) "
   ]
  },
  {
   "cell_type": "code",
   "execution_count": 65,
   "id": "13ff33ec-fb16-40cb-84a4-9ccad6bdb456",
   "metadata": {},
   "outputs": [
    {
     "name": "stdout",
     "output_type": "stream",
     "text": [
      "                      Total Time  ODF\n",
      "Number of Processors                 \n",
      "6                      33.061840  1.0\n",
      "12                     16.000710  1.0\n",
      "24                      9.448154  1.0\n",
      "48                      7.458872  1.0\n",
      "96                      3.765066  1.0\n",
      "192                     1.906610  1.0\n",
      "384                     1.025436  1.0\n",
      "768                     0.510834  1.0\n",
      "                      Total Time  ODF\n",
      "Number of Processors                 \n",
      "6                      32.778279  2.0\n",
      "12                     16.533548  2.0\n",
      "24                      9.138132  2.0\n",
      "48                      7.462716  2.0\n",
      "96                      3.795862  2.0\n",
      "192                     1.914994  2.0\n",
      "384                     1.024498  2.0\n",
      "768                     0.626737  2.0\n",
      "                      Total Time  ODF\n",
      "Number of Processors                 \n",
      "6                      31.631014  8.0\n",
      "12                     16.341108  8.0\n",
      "24                      9.437926  8.0\n",
      "48                      7.667333  8.0\n",
      "96                      4.031674  8.0\n",
      "192                     2.127062  8.0\n"
     ]
    }
   ],
   "source": [
    "odf2 = pd.read_csv('/home/zane/projects/charm-mpi-compare/data/stencil/2021-08-27_odf/strong_scaling_stdout_cleaned.txt')\n",
    "odf1 = pd.read_csv('/home/zane/projects/charm-mpi-compare/data/stencil/2021-08-26_scaling/strong_scaling_stdout_cleaned.txt')\n",
    "odf8 = pd.read_csv('/home/zane/projects/charm-mpi-compare/data/stencil/2021-08-27_odf/strong_scaling_stdout_cleaned_odf8.txt')\n",
    "odf1['ODF']=1\n",
    "odf2['ODF']=2\n",
    "odf8['ODF']=8\n",
    "                   \n",
    "\n",
    "odf = pd.concat([odf1, odf2, odf8]).reset_index(drop=True)\n",
    "set(odf['Number of Processors'])\n",
    "print(odf1.groupby('Number of Processors').mean())\n",
    "print(odf2.groupby('Number of Processors').mean())\n",
    "print(odf8.groupby('Number of Processors').mean())"
   ]
  },
  {
   "cell_type": "code",
   "execution_count": 72,
   "id": "f9ad30a0-5a08-4342-afd3-5c45f944f78c",
   "metadata": {},
   "outputs": [
    {
     "data": {
      "image/png": "[encoded data removed]",
      "text/plain": [
       "<Figure size 432x288 with 1 Axes>"
      ]
     },
     "metadata": {},
     "output_type": "display_data"
    }
   ],
   "source": [
    "sns.boxplot(x=\"Number of Processors\", y=\"Total Time\", data=odf[(odf[\"Number of Processors\"] < 48)], hue='ODF')\n",
    "# sns.violinplot(x=\"Number of Processors\", y=\"Total Time\", data=odf2[odf2[\"Number of Processors\"] >= 96])\n",
    "plt.savefig('odf_stencil_smallprocs.pdf', bbox_inches='tight', dpi=300)"
   ]
  },
  {
   "cell_type": "code",
   "execution_count": 73,
   "id": "efc44d69-7d31-4c42-a438-37b0dfd8cacc",
   "metadata": {},
   "outputs": [
    {
     "data": {
      "image/png": "[encoded data removed]",
      "text/plain": [
       "<Figure size 432x288 with 1 Axes>"
      ]
     },
     "metadata": {},
     "output_type": "display_data"
    }
   ],
   "source": [
    "sns.boxplot(x=\"Number of Processors\", y=\"Total Time\", data=odf[(odf[\"Number of Processors\"] == 192)], hue='ODF')\n",
    "# sns.violinplot(x=\"Number of Processors\", y=\"Total Time\", data=odf2[odf2[\"Number of Processors\"] >= 96])\n",
    "plt.savefig('odf_stencil_largeprocs.pdf', bbox_inches='tight', dpi=300)"
   ]
  },
  {
   "cell_type": "code",
   "execution_count": 41,
   "id": "38813b48-6c1f-45f4-9721-8ad60b6b1d5d",
   "metadata": {},
   "outputs": [
    {
     "name": "stdout",
     "output_type": "stream",
     "text": [
      "6 MannwhitneyuResult(statistic=20.0, pvalue=0.42857142857142855)\n",
      "6 MannwhitneyuResult(statistic=25.0, pvalue=0.007936507936507936)\n",
      "12 MannwhitneyuResult(statistic=0.0, pvalue=0.007936507936507936)\n",
      "12 MannwhitneyuResult(statistic=0.0, pvalue=0.007936507936507936)\n",
      "24 MannwhitneyuResult(statistic=25.0, pvalue=0.007936507936507936)\n",
      "24 MannwhitneyuResult(statistic=20.0, pvalue=0.15079365079365079)\n",
      "48 MannwhitneyuResult(statistic=10.0, pvalue=0.6904761904761905)\n",
      "48 MannwhitneyuResult(statistic=0.0, pvalue=0.007936507936507936)\n",
      "96 MannwhitneyuResult(statistic=8.0, pvalue=0.42063492063492064)\n",
      "96 MannwhitneyuResult(statistic=0.0, pvalue=0.007936507936507936)\n",
      "192 MannwhitneyuResult(statistic=9.0, pvalue=0.5476190476190477)\n",
      "192 MannwhitneyuResult(statistic=0.0, pvalue=0.007936507936507936)\n"
     ]
    }
   ],
   "source": [
    "for num_p in sorted(set(odf8['Number of Processors'])):\n",
    "    o1_p = odf1[odf1['Number of Processors'] == num_p]\n",
    "    o2_p = odf2[odf2['Number of Processors'] == num_p]\n",
    "    o8_p = odf8[odf8['Number of Processors'] == num_p]\n",
    "    print(num_p,scipy.stats.mannwhitneyu(o1_p['Total Time'], o2_p['Total Time']))\n",
    "    print(num_p,scipy.stats.mannwhitneyu(o1_p['Total Time'], o8_p['Total Time']))"
   ]
  },
  {
   "cell_type": "markdown",
   "id": "8cf81d4e-8abd-4e1c-badb-3c8420206da2",
   "metadata": {},
   "source": [
    "- It doesn't appear that ODF 2 makes a large enough diffference that can be seen at this sample size. \n",
    "- I think that ODF will make a bigger difference at smaller processor counts because the working set of each processor is much larger.\n",
    "    - At 6 processors beginning with 24576^2 grid, each processor has a piece of the grid that's roughly 0.75GiB\n",
    "- Try ODF=8 for 6-192 processors. \n",
    "- Looks like it may make a difference at lower number of processors, but it appears to be slight. For now, move forward with ODF=1."
   ]
  },
  {
   "cell_type": "code",
   "execution_count": 75,
   "id": "dcf9b760-f4a2-4eef-81cb-9ab1e7a477bc",
   "metadata": {},
   "outputs": [],
   "source": [
    "mpi_re = re.compile('\\S+_n(\\d+)_m(\\d+)_np(\\d+)_i(\\d+)_w(\\d+)_mpi\\.csv')\n",
    "charm_re = re.compile('\\S+_n(\\d+)_m(\\d+)_np(\\d+)_i(\\d+)_w(\\d+)_charm\\.csv')\n",
    "data_basedir = '../data/stencil/2021-08-27_scaling'\n",
    "strong_dir = f'{data_basedir}/strong_scaling'\n",
    "weak_dir = f'{data_basedir}/weak_scaling'\n",
    "strong_files = glob(f'{strong_dir}/*')\n",
    "weak_files = glob(f'{weak_dir}/*')"
   ]
  },
  {
   "cell_type": "code",
   "execution_count": 94,
   "id": "a34abbd5-a59c-4fd9-887d-ff631f42fffe",
   "metadata": {},
   "outputs": [],
   "source": [
    "strong_df = None\n",
    "for file in strong_files:\n",
    "    df = pd.read_csv(file, comment='#')\n",
    "    # (for right now) only consider process 0\n",
    "#     df = df[df['Process'] == 0]\n",
    "    # skip warmup iterations\n",
    "    df = df[df['Iteration'] >= 10]\n",
    "    match_charm = charm_re.search(file)\n",
    "    match_mpi = mpi_re.search(file)\n",
    "    if match_mpi:\n",
    "        framework = 'mpi4py'\n",
    "        match = match_mpi\n",
    "    elif match_charm:\n",
    "        framework = 'Charm4Py'\n",
    "        match = match_charm\n",
    "    else:\n",
    "        print(f\"ERROR: {file} isn't named correctly.\")\n",
    "        continue\n",
    "    assert not (match_charm and match_mpi)\n",
    "    nprocs = int(match.group(3))\n",
    "    # Use the process with the highest average iteration time\n",
    "    df = df.groupby('Process').sum(['Iteration Time', 'Computation Time', 'Communication Time']).reset_index(drop=False)\n",
    "    assert np.allclose(df[\"Iteration Time\"], df[\"Computation Time\"] + df[\"Communication Time\"])\n",
    "    df['Num Processes'] = nprocs\n",
    "    # We don't want to sum the number of processes\n",
    "    df=df.loc[df.reset_index().groupby(['Num Processes'])['Iteration Time'].idxmax()]\n",
    "    df['framework'] = framework\n",
    "    if strong_df is None:\n",
    "        strong_df = df.copy(deep=True)\n",
    "    else:\n",
    "        strong_df = pd.concat([strong_df, df]).reset_index(drop=True)"
   ]
  },
  {
   "cell_type": "code",
   "execution_count": 95,
   "id": "f722df45-683f-4fdf-9a90-f94fbc625ddf",
   "metadata": {},
   "outputs": [
    {
     "name": "stdout",
     "output_type": "stream",
     "text": [
      "count    180.000000\n",
      "mean       0.257946\n",
      "std        0.107805\n",
      "min        0.081799\n",
      "25%        0.177871\n",
      "50%        0.247922\n",
      "75%        0.327034\n",
      "max        0.666677\n",
      "Name: Communication Time, dtype: float64\n",
      "count    180.000000\n",
      "mean       2.811175\n",
      "std        3.248213\n",
      "min        0.152541\n",
      "25%        0.376673\n",
      "50%        1.027873\n",
      "75%        3.788125\n",
      "max        9.514925\n",
      "Name: Iteration Time, dtype: float64\n"
     ]
    }
   ],
   "source": [
    "strong_df = strong_df[strong_df['Num Processes'] >= 24]\n",
    "strong_df_manyprocs = strong_df[strong_df['Num Processes'] > 380]\n",
    "strong_df_fewprocs = strong_df[strong_df['Num Processes'] < 380]\n",
    "print(strong_df[\"Communication Time\"].describe())\n",
    "print(strong_df[\"Iteration Time\"].describe())"
   ]
  },
  {
   "cell_type": "code",
   "execution_count": 57,
   "id": "9925b95d-3453-4b63-b0cc-3bea29e6d710",
   "metadata": {},
   "outputs": [
    {
     "name": "stderr",
     "output_type": "stream",
     "text": [
      "/home/zane/miniconda3/lib/python3.7/site-packages/ipykernel_launcher.py:22: UserWarning: FixedFormatter should only be used together with FixedLocator\n"
     ]
    },
    {
     "data": {
      "image/png": "[encoded data removed]",
      "text/plain": [
       "<Figure size 360x288 with 1 Axes>"
      ]
     },
     "metadata": {},
     "output_type": "display_data"
    }
   ],
   "source": [
    "# Stencil2D strong scaling\n",
    "import matplotlib.patches as mpatches\n",
    "sns.set_style(\"whitegrid\")\n",
    "f, ax = plt.subplots(figsize=(5,4))\n",
    "\n",
    "bar1=sns.barplot(x=\"Num Processes\", y=\"Iteration Time\", data=strong_df_manyprocs,hue=\"framework\",\n",
    "              palette = ['green','black'],ci=99,ax=ax, errcolor='red')\n",
    "bar1=sns.barplot(x=\"Num Processes\", y=\"Communication Time\", data=strong_df_manyprocs,hue=\"framework\",\n",
    "              palette = ['yellow','gray'],ci=99,ax=ax, errcolor='blue')\n",
    "# ax.set_yticklabels([24,48,96,192,384,768,1536,3072,6144])\n",
    "# ax.set_yscale(\"log\", base=10) \n",
    "# ax.set_xticklabels([24, 48, 96, 192, 384, 768, 1536, 3072, 6144], rotation=45) \n",
    "ax.set_ylabel('Runtime (s)', fontsize=20)\n",
    "ax.set_xlabel('Number of Processors', fontsize=20)\n",
    "ax.tick_params( which = 'major', labelsize = 20 )\n",
    "ax.set_ylim(0,1.25)\n",
    "labs = ax.get_legend_handles_labels()\n",
    "labs[0][0].set_label('Charm4Py-Comp.')\n",
    "labs[0][1].set_label('mpi4py-Comp.')\n",
    "labs[0][2].set_label('Charm4Py-Comm.')\n",
    "labs[0][3].set_label('mpi4py-Comm.')\n",
    "ax.set_yticklabels([0.00, 0.25, 0.50, 0.75, 1.00, 1.25])\n",
    "ax.legend(fontsize = 13.5, loc = 'upper right', fancybox = False, framealpha = 1,\n",
    "              handlelength = 1.7, ncol = 1)\n",
    "plt.savefig('stencil_strong_scaling_largeprocs.pdf', bbox_inches='tight', dpi=300)"
   ]
  },
  {
   "cell_type": "code",
   "execution_count": 93,
   "id": "a6172d1a-3919-4cda-820a-9cf21c249ae3",
   "metadata": {},
   "outputs": [
    {
     "data": {
      "image/png": "[encoded data removed]",
      "text/plain": [
       "<Figure size 360x288 with 1 Axes>"
      ]
     },
     "metadata": {},
     "output_type": "display_data"
    }
   ],
   "source": [
    "# Stencil2D strong scaling\n",
    "# TODO: Are the CIs small or is a zorder issue?\n",
    "import matplotlib.patches as mpatches\n",
    "sns.set_style(\"whitegrid\")\n",
    "f, ax = plt.subplots(figsize=(5,4))\n",
    "\n",
    "bar1=sns.barplot(x=\"Num Processes\", y=\"Iteration Time\", data=strong_df_fewprocs,hue=\"framework\",\n",
    "              palette = ['green','black'],ci=99,ax=ax, errcolor='red')\n",
    "bar1=sns.barplot(x=\"Num Processes\", y=\"Communication Time\", data=strong_df_fewprocs,hue=\"framework\",\n",
    "              palette = ['yellow','gray'],ci=99,ax=ax, errcolor='blue')\n",
    "\n",
    "# ax.set_yticklabels([24,48,96,192,384,768,1536,3072,6144])\n",
    "# ax.set_yscale(\"log\", base=10) \n",
    "# ax.set_xticklabels([24, 48, 96, 192, 384, 768, 1536, 3072, 6144], rotation=45) \n",
    "ax.set_ylabel('Runtime (s)', fontsize=20)\n",
    "ax.set_xlabel('Number of Processors', fontsize=20)\n",
    "ax.tick_params( which = 'major', labelsize = 20 )\n",
    "# ax.set_ylim(0,10)\n",
    "labs = ax.get_legend_handles_labels()\n",
    "labs[0][0].set_label('Charm4Py-Comp.')\n",
    "labs[0][1].set_label('mpi4py-Comp.')\n",
    "labs[0][2].set_label('Charm4Py-Comm.')\n",
    "labs[0][3].set_label('mpi4py-Comm.')\n",
    "# ax.set_yticklabels([0, 2, 4, 6, 8, 10])\n",
    "ax.legend(fontsize = 12.9, loc = 'upper right', fancybox = False, framealpha = 1,\n",
    "              handlelength = 1.8, ncol = 1)\n",
    "plt.savefig('stencil_strong_scaling_smallprocs.pdf', bbox_inches='tight', dpi=300)"
   ]
  },
  {
   "cell_type": "code",
   "execution_count": 52,
   "id": "39661bd3-34ff-4bba-9687-d17038342bf4",
   "metadata": {},
   "outputs": [],
   "source": [
    "weak_df = None\n",
    "import seaborn as sns\n",
    "for file in weak_files:\n",
    "    df = pd.read_csv(file, comment='#')\n",
    "    # (for right now) only consider process 0\n",
    "#     df = df[df['Process'] == 0]\n",
    "    # skip warmup iterations\n",
    "    df = df[df['Iteration'] >= 10]\n",
    "    match_charm = charm_re.search(file)\n",
    "    match_mpi = mpi_re.search(file)\n",
    "    if match_mpi:\n",
    "        framework = 'mpi4py'\n",
    "        match = match_mpi\n",
    "    elif match_charm:\n",
    "        framework = 'Charm4Py'\n",
    "        match = match_charm\n",
    "    else:\n",
    "        print(f\"ERROR: {file} isn't named correctly.\")\n",
    "        continue\n",
    "    assert not (match_charm and match_mpi)\n",
    "    nprocs = int(match.group(3))\n",
    "    # Use the process with the highest average iteration time\n",
    "    df = df.groupby('Process').mean(['Iteration Time', 'Computation Time', 'Communication Time']).reset_index(drop=False)\n",
    "    assert np.allclose(df[\"Iteration Time\"], df[\"Computation Time\"] + df[\"Communication Time\"])\n",
    "    df['Num Processes'] = nprocs\n",
    "    # We don't want to sum the number of processes\n",
    "    df=df.loc[df.reset_index().groupby(['Num Processes'])['Iteration Time'].idxmax()]\n",
    "    assert np.allclose(df[\"Iteration Time\"], df[\"Computation Time\"] + df[\"Communication Time\"])\n",
    "    df['framework'] = framework\n",
    "    if weak_df is None:\n",
    "        weak_df = df.copy(deep=True)\n",
    "    else:\n",
    "        weak_df = pd.concat([weak_df, df]).reset_index(drop=True)\n",
    "# assert len(weak_df[weak_df['framework'] == \"Charm4Py\"]) == len(weak_df[weak_df[\"framework\"] == \"mpi4py\"])"
   ]
  },
  {
   "cell_type": "code",
   "execution_count": 53,
   "id": "b771301c-a74f-4020-8393-d9f0e070aee3",
   "metadata": {},
   "outputs": [
    {
     "name": "stdout",
     "output_type": "stream",
     "text": [
      "count    180.000000\n",
      "mean       0.257946\n",
      "std        0.107805\n",
      "min        0.081799\n",
      "25%        0.177871\n",
      "50%        0.247922\n",
      "75%        0.327034\n",
      "max        0.666677\n",
      "Name: Communication Time, dtype: float64\n",
      "count    180.000000\n",
      "mean       2.811175\n",
      "std        3.248213\n",
      "min        0.152541\n",
      "25%        0.376673\n",
      "50%        1.027873\n",
      "75%        3.788125\n",
      "max        9.514925\n",
      "Name: Iteration Time, dtype: float64\n"
     ]
    }
   ],
   "source": [
    "weak_df = weak_df[weak_df['Num Processes'] >= 24]\n",
    "weak_df_manyprocs = weak_df[weak_df['Num Processes'] > 380]\n",
    "weak_df_fewprocs = weak_df[weak_df['Num Processes'] < 380]\n",
    "print(strong_df[\"Communication Time\"].describe())\n",
    "print(strong_df[\"Iteration Time\"].describe())"
   ]
  },
  {
   "cell_type": "code",
   "execution_count": 56,
   "id": "fef03cec-7985-42b5-8483-f2d2b5b8d218",
   "metadata": {},
   "outputs": [
    {
     "data": {
      "text/plain": [
       "<matplotlib.legend.Legend at 0x7f0e0dff8898>"
      ]
     },
     "execution_count": 56,
     "metadata": {},
     "output_type": "execute_result"
    },
    {
     "data": {
      "image/png": "[encoded data removed]",
      "text/plain": [
       "<Figure size 360x288 with 1 Axes>"
      ]
     },
     "metadata": {},
     "output_type": "display_data"
    }
   ],
   "source": [
    "# Stencil2D weak scaling\n",
    "# These data were discarded because they drew to my attention the fact that the MPI implementation had a slight \n",
    "# performance issue which can increase its communication time at very small communication volumes.\n",
    "import matplotlib.patches as mpatches\n",
    "sns.set_style(\"whitegrid\")\n",
    "f, ax = plt.subplots(figsize=(5,4))\n",
    "\n",
    "bar1=sns.barplot(x=\"Num Processes\", y=\"Iteration Time\", data=weak_df,hue=\"framework\",\n",
    "              palette = ['green','black'],ci=99,ax=ax, errcolor='red')\n",
    "bar1=sns.barplot(x=\"Num Processes\", y=\"Communication Time\", data=weak_df,hue=\"framework\",\n",
    "              palette = ['yellow','gray'],ci=99,ax=ax, errcolor='blue')\n",
    "# ax.set_yticklabels([24,48,96,192,384,768,1536,3072,6144])\n",
    "# ax.set_xlim(24, 768)\n",
    "# ax.set_xscale(\"log\", base=2)\n",
    "# ax.set_yscale(\"log\", base=10) \n",
    "ax.set_ylim(0, 0.0150)\n",
    "ax.set_xticklabels([24, 48, 96, 192, 384, 768, 1536, 3072, 6144], rotation=45) \n",
    "ax.set_ylabel('Runtime (s)', fontsize=20)\n",
    "ax.set_xlabel('Number of Processors', fontsize=20)\n",
    "ax.tick_params( which = 'major', labelsize = 20 )\n",
    "# ax.set_ylim(top=10**1)\n",
    "labs = ax.get_legend_handles_labels()\n",
    "labs[0][0].set_label('Charm4Py-Comp.')\n",
    "labs[0][1].set_label('mpi4py-Comp.')\n",
    "labs[0][2].set_label('Charm4Py-Comm.')\n",
    "labs[0][3].set_label('mpi4py-Comm.')\n",
    "ax.legend(fontsize = 16, loc = 'upper left', fancybox = False, framealpha = 1,\n",
    "              handlelength = 1.7, ncol = 1)\n",
    "# plt.savefig('stencil_strong_scaling.pdf', bbox_inches='tight', dpi=300)"
   ]
  },
  {
   "cell_type": "code",
   "execution_count": 101,
   "id": "705f5079-cc67-4b20-b8a8-b6949b4337df",
   "metadata": {},
   "outputs": [
    {
     "data": {
      "text/html": [
       "<div>\n",
       "<style scoped>\n",
       "    .dataframe tbody tr th:only-of-type {\n",
       "        vertical-align: middle;\n",
       "    }\n",
       "\n",
       "    .dataframe tbody tr th {\n",
       "        vertical-align: top;\n",
       "    }\n",
       "\n",
       "    .dataframe thead th {\n",
       "        text-align: right;\n",
       "    }\n",
       "</style>\n",
       "<table border=\"1\" class=\"dataframe\">\n",
       "  <thead>\n",
       "    <tr style=\"text-align: right;\">\n",
       "      <th></th>\n",
       "      <th>Num Processes</th>\n",
       "      <th>Process</th>\n",
       "      <th>Iteration</th>\n",
       "      <th>Iteration Time</th>\n",
       "      <th>Communication Time</th>\n",
       "      <th>Computation Time</th>\n",
       "      <th>framework</th>\n",
       "      <th>Num processes</th>\n",
       "    </tr>\n",
       "  </thead>\n",
       "  <tbody>\n",
       "    <tr>\n",
       "      <th>21</th>\n",
       "      <td>6144</td>\n",
       "      <td>6143</td>\n",
       "      <td>6060</td>\n",
       "      <td>0.834733</td>\n",
       "      <td>0.491242</td>\n",
       "      <td>0.482199</td>\n",
       "      <td>Charm4Py</td>\n",
       "      <td>620544.0</td>\n",
       "    </tr>\n",
       "    <tr>\n",
       "      <th>31</th>\n",
       "      <td>6144</td>\n",
       "      <td>6143</td>\n",
       "      <td>6060</td>\n",
       "      <td>0.707663</td>\n",
       "      <td>0.392684</td>\n",
       "      <td>0.520229</td>\n",
       "      <td>mpi4py</td>\n",
       "      <td>NaN</td>\n",
       "    </tr>\n",
       "    <tr>\n",
       "      <th>41</th>\n",
       "      <td>6144</td>\n",
       "      <td>6143</td>\n",
       "      <td>6060</td>\n",
       "      <td>0.850814</td>\n",
       "      <td>0.535156</td>\n",
       "      <td>0.510286</td>\n",
       "      <td>Charm4Py</td>\n",
       "      <td>620544.0</td>\n",
       "    </tr>\n",
       "    <tr>\n",
       "      <th>52</th>\n",
       "      <td>6144</td>\n",
       "      <td>6143</td>\n",
       "      <td>6060</td>\n",
       "      <td>0.722494</td>\n",
       "      <td>0.398065</td>\n",
       "      <td>0.496287</td>\n",
       "      <td>mpi4py</td>\n",
       "      <td>NaN</td>\n",
       "    </tr>\n",
       "    <tr>\n",
       "      <th>69</th>\n",
       "      <td>6144</td>\n",
       "      <td>6143</td>\n",
       "      <td>6060</td>\n",
       "      <td>0.905890</td>\n",
       "      <td>0.540876</td>\n",
       "      <td>0.668010</td>\n",
       "      <td>Charm4Py</td>\n",
       "      <td>620544.0</td>\n",
       "    </tr>\n",
       "    <tr>\n",
       "      <th>75</th>\n",
       "      <td>6144</td>\n",
       "      <td>6143</td>\n",
       "      <td>6060</td>\n",
       "      <td>0.696033</td>\n",
       "      <td>0.379479</td>\n",
       "      <td>0.537013</td>\n",
       "      <td>mpi4py</td>\n",
       "      <td>NaN</td>\n",
       "    </tr>\n",
       "    <tr>\n",
       "      <th>76</th>\n",
       "      <td>6144</td>\n",
       "      <td>6143</td>\n",
       "      <td>6060</td>\n",
       "      <td>0.766278</td>\n",
       "      <td>0.449749</td>\n",
       "      <td>0.546212</td>\n",
       "      <td>mpi4py</td>\n",
       "      <td>NaN</td>\n",
       "    </tr>\n",
       "    <tr>\n",
       "      <th>86</th>\n",
       "      <td>6144</td>\n",
       "      <td>6143</td>\n",
       "      <td>6060</td>\n",
       "      <td>0.732202</td>\n",
       "      <td>0.413125</td>\n",
       "      <td>0.511762</td>\n",
       "      <td>mpi4py</td>\n",
       "      <td>NaN</td>\n",
       "    </tr>\n",
       "    <tr>\n",
       "      <th>100</th>\n",
       "      <td>6144</td>\n",
       "      <td>6143</td>\n",
       "      <td>6060</td>\n",
       "      <td>0.858082</td>\n",
       "      <td>0.528635</td>\n",
       "      <td>0.483501</td>\n",
       "      <td>Charm4Py</td>\n",
       "      <td>620544.0</td>\n",
       "    </tr>\n",
       "    <tr>\n",
       "      <th>103</th>\n",
       "      <td>6144</td>\n",
       "      <td>6143</td>\n",
       "      <td>6060</td>\n",
       "      <td>0.644138</td>\n",
       "      <td>0.317312</td>\n",
       "      <td>0.448175</td>\n",
       "      <td>mpi4py</td>\n",
       "      <td>NaN</td>\n",
       "    </tr>\n",
       "    <tr>\n",
       "      <th>126</th>\n",
       "      <td>6144</td>\n",
       "      <td>6143</td>\n",
       "      <td>6060</td>\n",
       "      <td>0.954205</td>\n",
       "      <td>0.637417</td>\n",
       "      <td>0.595209</td>\n",
       "      <td>Charm4Py</td>\n",
       "      <td>620544.0</td>\n",
       "    </tr>\n",
       "    <tr>\n",
       "      <th>128</th>\n",
       "      <td>6144</td>\n",
       "      <td>6143</td>\n",
       "      <td>6060</td>\n",
       "      <td>1.052224</td>\n",
       "      <td>0.732256</td>\n",
       "      <td>0.531657</td>\n",
       "      <td>Charm4Py</td>\n",
       "      <td>620544.0</td>\n",
       "    </tr>\n",
       "    <tr>\n",
       "      <th>129</th>\n",
       "      <td>6144</td>\n",
       "      <td>6143</td>\n",
       "      <td>6060</td>\n",
       "      <td>0.765930</td>\n",
       "      <td>0.454463</td>\n",
       "      <td>0.602415</td>\n",
       "      <td>mpi4py</td>\n",
       "      <td>NaN</td>\n",
       "    </tr>\n",
       "    <tr>\n",
       "      <th>138</th>\n",
       "      <td>6144</td>\n",
       "      <td>6143</td>\n",
       "      <td>6060</td>\n",
       "      <td>0.943245</td>\n",
       "      <td>0.618111</td>\n",
       "      <td>0.527593</td>\n",
       "      <td>Charm4Py</td>\n",
       "      <td>620544.0</td>\n",
       "    </tr>\n",
       "    <tr>\n",
       "      <th>141</th>\n",
       "      <td>6144</td>\n",
       "      <td>6143</td>\n",
       "      <td>6060</td>\n",
       "      <td>0.622839</td>\n",
       "      <td>0.296324</td>\n",
       "      <td>0.436350</td>\n",
       "      <td>mpi4py</td>\n",
       "      <td>NaN</td>\n",
       "    </tr>\n",
       "    <tr>\n",
       "      <th>158</th>\n",
       "      <td>6144</td>\n",
       "      <td>6143</td>\n",
       "      <td>6060</td>\n",
       "      <td>0.779211</td>\n",
       "      <td>0.466358</td>\n",
       "      <td>0.647030</td>\n",
       "      <td>mpi4py</td>\n",
       "      <td>NaN</td>\n",
       "    </tr>\n",
       "    <tr>\n",
       "      <th>169</th>\n",
       "      <td>6144</td>\n",
       "      <td>6143</td>\n",
       "      <td>6060</td>\n",
       "      <td>0.919071</td>\n",
       "      <td>0.568059</td>\n",
       "      <td>0.512822</td>\n",
       "      <td>Charm4Py</td>\n",
       "      <td>620544.0</td>\n",
       "    </tr>\n",
       "    <tr>\n",
       "      <th>187</th>\n",
       "      <td>6144</td>\n",
       "      <td>6143</td>\n",
       "      <td>6060</td>\n",
       "      <td>0.563520</td>\n",
       "      <td>0.217240</td>\n",
       "      <td>0.416305</td>\n",
       "      <td>mpi4py</td>\n",
       "      <td>NaN</td>\n",
       "    </tr>\n",
       "    <tr>\n",
       "      <th>205</th>\n",
       "      <td>6144</td>\n",
       "      <td>6143</td>\n",
       "      <td>6060</td>\n",
       "      <td>0.919198</td>\n",
       "      <td>0.585398</td>\n",
       "      <td>0.407351</td>\n",
       "      <td>Charm4Py</td>\n",
       "      <td>620544.0</td>\n",
       "    </tr>\n",
       "    <tr>\n",
       "      <th>215</th>\n",
       "      <td>6144</td>\n",
       "      <td>6143</td>\n",
       "      <td>6060</td>\n",
       "      <td>1.011993</td>\n",
       "      <td>0.677196</td>\n",
       "      <td>0.593584</td>\n",
       "      <td>Charm4Py</td>\n",
       "      <td>620544.0</td>\n",
       "    </tr>\n",
       "  </tbody>\n",
       "</table>\n",
       "</div>"
      ],
      "text/plain": [
       "     Num Processes  Process  Iteration  Iteration Time  Communication Time  \\\n",
       "21            6144     6143       6060        0.834733            0.491242   \n",
       "31            6144     6143       6060        0.707663            0.392684   \n",
       "41            6144     6143       6060        0.850814            0.535156   \n",
       "52            6144     6143       6060        0.722494            0.398065   \n",
       "69            6144     6143       6060        0.905890            0.540876   \n",
       "75            6144     6143       6060        0.696033            0.379479   \n",
       "76            6144     6143       6060        0.766278            0.449749   \n",
       "86            6144     6143       6060        0.732202            0.413125   \n",
       "100           6144     6143       6060        0.858082            0.528635   \n",
       "103           6144     6143       6060        0.644138            0.317312   \n",
       "126           6144     6143       6060        0.954205            0.637417   \n",
       "128           6144     6143       6060        1.052224            0.732256   \n",
       "129           6144     6143       6060        0.765930            0.454463   \n",
       "138           6144     6143       6060        0.943245            0.618111   \n",
       "141           6144     6143       6060        0.622839            0.296324   \n",
       "158           6144     6143       6060        0.779211            0.466358   \n",
       "169           6144     6143       6060        0.919071            0.568059   \n",
       "187           6144     6143       6060        0.563520            0.217240   \n",
       "205           6144     6143       6060        0.919198            0.585398   \n",
       "215           6144     6143       6060        1.011993            0.677196   \n",
       "\n",
       "     Computation Time framework  Num processes  \n",
       "21           0.482199  Charm4Py       620544.0  \n",
       "31           0.520229    mpi4py            NaN  \n",
       "41           0.510286  Charm4Py       620544.0  \n",
       "52           0.496287    mpi4py            NaN  \n",
       "69           0.668010  Charm4Py       620544.0  \n",
       "75           0.537013    mpi4py            NaN  \n",
       "76           0.546212    mpi4py            NaN  \n",
       "86           0.511762    mpi4py            NaN  \n",
       "100          0.483501  Charm4Py       620544.0  \n",
       "103          0.448175    mpi4py            NaN  \n",
       "126          0.595209  Charm4Py       620544.0  \n",
       "128          0.531657  Charm4Py       620544.0  \n",
       "129          0.602415    mpi4py            NaN  \n",
       "138          0.527593  Charm4Py       620544.0  \n",
       "141          0.436350    mpi4py            NaN  \n",
       "158          0.647030    mpi4py            NaN  \n",
       "169          0.512822  Charm4Py       620544.0  \n",
       "187          0.416305    mpi4py            NaN  \n",
       "205          0.407351  Charm4Py       620544.0  \n",
       "215          0.593584  Charm4Py       620544.0  "
      ]
     },
     "execution_count": 101,
     "metadata": {},
     "output_type": "execute_result"
    }
   ],
   "source": [
    "weak_df[weak_df[\"Num Processes\"] == 6144]"
   ]
  },
  {
   "cell_type": "code",
   "execution_count": null,
   "id": "238bb53a-f5cb-41cd-8aea-bf7efe1e550b",
   "metadata": {},
   "outputs": [],
   "source": []
  }
 ],
 "metadata": {
  "kernelspec": {
   "display_name": "Python 3",
   "language": "python",
   "name": "python3"
  },
  "language_info": {
   "codemirror_mode": {
    "name": "ipython",
    "version": 3
   },
   "file_extension": ".py",
   "mimetype": "text/x-python",
   "name": "python",
   "nbconvert_exporter": "python",
   "pygments_lexer": "ipython3",
   "version": "3.7.3"
  }
 },
 "nbformat": 4,
 "nbformat_minor": 5
}

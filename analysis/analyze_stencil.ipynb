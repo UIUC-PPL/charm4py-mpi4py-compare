{
 "cells": [
  {
   "cell_type": "code",
   "execution_count": 1,
   "id": "d230f9cb-3c9d-49ec-8dca-6c7d79f4c9e9",
   "metadata": {},
   "outputs": [],
   "source": [
    "%matplotlib inline\n",
    "%load_ext autoreload\n",
    "%autoreload 2\n",
    "%reload_ext autoreload\n",
    "\n",
    "import numpy as np\n",
    "import matplotlib.pyplot as plt\n",
    "import csv\n",
    "import math\n",
    "from matplotlib.ticker import FormatStrFormatter\n",
    "import matplotlib.pyplot as plt\n",
    "import matplotlib.ticker as mtick\n",
    "import pandas as pd\n",
    "import statsmodels.api as sm\n",
    "import scipy\n",
    "import seaborn as sns\n",
    "import re\n",
    "from collections import defaultdict\n",
    "from glob import glob\n",
    "\n",
    "# IMPORT MY LATEX SO I CAN USE \\TEXTSC\n",
    "import matplotlib as mpl\n",
    "mpl.rc('text', **{'usetex':True})\n",
    "import re\n",
    "plt.rc( 'font', family = 'serif')"
   ]
  },
  {
   "cell_type": "code",
   "execution_count": 154,
   "id": "ebbb790e-7903-42ae-b782-b12f9b03a668",
   "metadata": {},
   "outputs": [
    {
     "name": "stdout",
     "output_type": "stream",
     "text": [
      "../data/stencil/2021-08-26_scaling/strong_scaling_results\n"
     ]
    }
   ],
   "source": [
    "mpi_re = re.compile('\\S+_n(\\d+)_m(\\d+)_np(\\d+)_i(\\d+)_w(\\d+)_mpi\\.csv')\n",
    "charm_re = re.compile('\\S+_n(\\d+)_m(\\d+)_np(\\d+)_i(\\d+)_w(\\d+)_charm\\.csv')\n",
    "data_basedir = '../data/stencil/2021-08-26_scaling'\n",
    "strong_dir = f'{data_basedir}/strong_scaling_results'\n",
    "weak_dir = f'{data_basedir}/weak_scaling_results'\n",
    "print(strong_dir)\n",
    "strong_files = glob(f'{strong_dir}/*')\n",
    "weak_files = glob(f'{weak_dir}/*')"
   ]
  },
  {
   "cell_type": "code",
   "execution_count": 173,
   "id": "81b0630b-d041-43aa-8bce-da24925900ca",
   "metadata": {},
   "outputs": [],
   "source": [
    "strong_df = None\n",
    "for file in strong_files:\n",
    "    df = pd.read_csv(file, comment='#')\n",
    "    # (for right now) only consider process 0\n",
    "    df = df[df['Process'] == 0]\n",
    "    # skip warmup iterations\n",
    "    df = df[df['Iteration'] >= 10]\n",
    "    match_charm = charm_re.search(file)\n",
    "    match_mpi = mpi_re.search(file)\n",
    "    if match_mpi:\n",
    "        framework = 'mpi4py'\n",
    "        match = match_mpi\n",
    "    elif match_charm:\n",
    "        framework = 'Charm4Py'\n",
    "        match = match_charm\n",
    "    else:\n",
    "        print(f\"ERROR: {file} isn't named correctly.\")\n",
    "        continue\n",
    "    assert not (match_charm and match_mpi)\n",
    "    nprocs = int(match.group(3))\n",
    "    df['Num Processes'] = nprocs\n",
    "    # Get the mean for times across the 100 iterations\n",
    "    df = df.groupby('Num Processes').mean().reset_index(drop=False)\n",
    "    df['framework'] = framework\n",
    "    if strong_df is None:\n",
    "        strong_df = df.copy(deep=True)\n",
    "    else:\n",
    "        strong_df = pd.concat([strong_df, df]).reset_index(drop=True)\n",
    "        \n",
    "strong_df['Communication Time'] /= 1000"
   ]
  },
  {
   "cell_type": "code",
   "execution_count": 174,
   "id": "d7e7ef72-b9d1-48b7-be89-8befa61620c9",
   "metadata": {},
   "outputs": [
    {
     "data": {
      "text/plain": [
       "[Text(6, 0, '6'),\n",
       " Text(12, 0, '12'),\n",
       " Text(24, 0, '24'),\n",
       " Text(48, 0, '48'),\n",
       " Text(96, 0, '96'),\n",
       " Text(192, 0, '192'),\n",
       " Text(384, 0, '384'),\n",
       " Text(768, 0, '768')]"
      ]
     },
     "execution_count": 174,
     "metadata": {},
     "output_type": "execute_result"
    },
    {
     "data": {
      "image/png": "[encoded data removed]",
      "text/plain": [
       "<Figure size 360x288 with 1 Axes>"
      ]
     },
     "metadata": {},
     "output_type": "display_data"
    }
   ],
   "source": [
    "# for np, df in sorted(strong_dfs.items(), key=lambda x: int(x[0])):\n",
    "#     charm_mean = df[df['framework'] == 'Charm4Py']['Iteration Time'].mean()\n",
    "#     mpi_mean = df[df['framework'] == 'mpi4py']['Iteration Time'].mean()\n",
    "#     print(f\"{np},{charm_mean},{mpi_mean}\")\n",
    "    \n",
    "sns.set_style(\"whitegrid\")\n",
    "f, ax = plt.subplots(figsize=(5,4))\n",
    "sns.lineplot(x=\"Num Processes\", y=\"Communication Time\", data=strong_df,hue=\"framework\", style=\"framework\",\n",
    "              palette = ['green','black'],ax=ax,ci=99, markers=['s', 'd'],\n",
    "              linewidth=3, markersize=10)\n",
    "ax.legend(loc='upper left')\n",
    "ax.set_xlim(6, 768)\n",
    "ax.set_xscale(\"log\", base=2)\n",
    "# ax.set_yscale(\"log\", base=2)\n",
    "ax.set_xticks(sorted(set(strong_df['Num Processes']))) \n",
    "ax.set_xticklabels(sorted(set(strong_df['Num Processes']))) "
   ]
  },
  {
   "cell_type": "code",
   "execution_count": 160,
   "id": "7a4a390f-e9e3-4b72-aa03-7c8c34d15c30",
   "metadata": {},
   "outputs": [],
   "source": [
    "weak_df = None\n",
    "for file in weak_files:\n",
    "    df = pd.read_csv(file, comment='#')\n",
    "    # (for right now) only consider process 0\n",
    "    df = df[df['Process'] == 0]\n",
    "    # skip warmup iterations\n",
    "    df = df[df['Iteration'] >= 10]\n",
    "    match_charm = charm_re.search(file)\n",
    "    match_mpi = mpi_re.search(file)\n",
    "    if match_mpi:\n",
    "        framework = 'mpi4py'\n",
    "        match = match_mpi\n",
    "    elif match_charm:\n",
    "        framework = 'Charm4Py'\n",
    "        match = match_charm\n",
    "    else:\n",
    "        print(f\"ERROR: {file} isn't named correctly.\")\n",
    "        continue\n",
    "    assert not (match_charm and match_mpi)\n",
    "    nprocs = int(match.group(3))\n",
    "    df['Num Processes'] = nprocs\n",
    "    # Get the mean for times across the 100 iterations\n",
    "    df = df.groupby('Num Processes').mean().reset_index(drop=False)\n",
    "    df['framework'] = framework\n",
    "    if weak_df is None:\n",
    "        weak_df = df.copy(deep=True)\n",
    "    else:\n",
    "        weak_df = pd.concat([weak_df, df]).reset_index(drop=True)\n",
    "weak_df['Iteration Time'] *= 1000"
   ]
  },
  {
   "cell_type": "code",
   "execution_count": 161,
   "id": "16e507fe-dfbc-4695-9686-44bb82987dc5",
   "metadata": {},
   "outputs": [
    {
     "data": {
      "text/plain": [
       "[Text(6, 0, '6'),\n",
       " Text(12, 0, '12'),\n",
       " Text(24, 0, '24'),\n",
       " Text(48, 0, '48'),\n",
       " Text(96, 0, '96'),\n",
       " Text(192, 0, '192'),\n",
       " Text(384, 0, '384'),\n",
       " Text(768, 0, '768')]"
      ]
     },
     "execution_count": 161,
     "metadata": {},
     "output_type": "execute_result"
    },
    {
     "data": {
      "image/png": "[encoded data removed]",
      "text/plain": [
       "<Figure size 360x288 with 1 Axes>"
      ]
     },
     "metadata": {},
     "output_type": "display_data"
    }
   ],
   "source": [
    "# for np, df in sorted(strong_dfs.items(), key=lambda x: int(x[0])):\n",
    "#     charm_mean = df[df['framework'] == 'Charm4Py']['Iteration Time'].mean()\n",
    "#     mpi_mean = df[df['framework'] == 'mpi4py']['Iteration Time'].mean()\n",
    "#     print(f\"{np},{charm_mean},{mpi_mean}\")\n",
    "    \n",
    "sns.set_style(\"whitegrid\")\n",
    "f, ax = plt.subplots(figsize=(5,4))\n",
    "sns.lineplot(x=\"Num Processes\", y=\"Iteration Time\", data=weak_df,hue=\"framework\", style=\"framework\",\n",
    "              palette = ['green','black'],ax=ax,ci=99, markers=['s', 'd'],\n",
    "              linewidth=3, markersize=10)\n",
    "ax.legend(loc='upper left')\n",
    "ax.set_xlim(6, 768)\n",
    "ax.set_xscale(\"log\", base=2)\n",
    "# ax.set_yscale(\"log\", base=2)\n",
    "ax.set_xticks(sorted(set(weak_df['Num Processes']))) \n",
    "ax.set_xticklabels(sorted(set(weak_df['Num Processes']))) "
   ]
  },
  {
   "cell_type": "code",
   "execution_count": 30,
   "id": "13ff33ec-fb16-40cb-84a4-9ccad6bdb456",
   "metadata": {},
   "outputs": [
    {
     "data": {
      "text/html": [
       "<div>\n",
       "<style scoped>\n",
       "    .dataframe tbody tr th:only-of-type {\n",
       "        vertical-align: middle;\n",
       "    }\n",
       "\n",
       "    .dataframe tbody tr th {\n",
       "        vertical-align: top;\n",
       "    }\n",
       "\n",
       "    .dataframe thead th {\n",
       "        text-align: right;\n",
       "    }\n",
       "</style>\n",
       "<table border=\"1\" class=\"dataframe\">\n",
       "  <thead>\n",
       "    <tr style=\"text-align: right;\">\n",
       "      <th></th>\n",
       "      <th>Total Time</th>\n",
       "      <th>ODF</th>\n",
       "    </tr>\n",
       "    <tr>\n",
       "      <th>Number of Processors</th>\n",
       "      <th></th>\n",
       "      <th></th>\n",
       "    </tr>\n",
       "  </thead>\n",
       "  <tbody>\n",
       "    <tr>\n",
       "      <th>6</th>\n",
       "      <td>33.061840</td>\n",
       "      <td>1.0</td>\n",
       "    </tr>\n",
       "    <tr>\n",
       "      <th>12</th>\n",
       "      <td>16.000710</td>\n",
       "      <td>1.0</td>\n",
       "    </tr>\n",
       "    <tr>\n",
       "      <th>24</th>\n",
       "      <td>9.448154</td>\n",
       "      <td>1.0</td>\n",
       "    </tr>\n",
       "    <tr>\n",
       "      <th>48</th>\n",
       "      <td>7.458872</td>\n",
       "      <td>1.0</td>\n",
       "    </tr>\n",
       "    <tr>\n",
       "      <th>96</th>\n",
       "      <td>3.765066</td>\n",
       "      <td>1.0</td>\n",
       "    </tr>\n",
       "    <tr>\n",
       "      <th>192</th>\n",
       "      <td>1.906610</td>\n",
       "      <td>1.0</td>\n",
       "    </tr>\n",
       "    <tr>\n",
       "      <th>384</th>\n",
       "      <td>1.025436</td>\n",
       "      <td>1.0</td>\n",
       "    </tr>\n",
       "    <tr>\n",
       "      <th>768</th>\n",
       "      <td>0.510834</td>\n",
       "      <td>1.0</td>\n",
       "    </tr>\n",
       "  </tbody>\n",
       "</table>\n",
       "</div>"
      ],
      "text/plain": [
       "                      Total Time  ODF\n",
       "Number of Processors                 \n",
       "6                      33.061840  1.0\n",
       "12                     16.000710  1.0\n",
       "24                      9.448154  1.0\n",
       "48                      7.458872  1.0\n",
       "96                      3.765066  1.0\n",
       "192                     1.906610  1.0\n",
       "384                     1.025436  1.0\n",
       "768                     0.510834  1.0"
      ]
     },
     "execution_count": 30,
     "metadata": {},
     "output_type": "execute_result"
    }
   ],
   "source": [
    "odf2 = pd.read_csv('/home/zane/projects/charm-mpi-compare/data/stencil/2021-08-27_odf/strong_scaling_stdout.txt')\n",
    "odf1 = pd.read_csv('/home/zane/projects/charm-mpi-compare/data/stencil/2021-08-26_scaling/strong_scaling_stdout.txt')\n",
    "odf8 = pd.read_csv('/home/zane/projects/charm-mpi-compare/data/stencil/2021-08-27_odf/strong_scaling_stdout_odf8.txt')\n",
    "odf1['ODF']=1\n",
    "odf2['ODF']=2\n",
    "odf8['ODF']=8\n",
    "                   \n",
    "\n",
    "odf = pd.concat([odf1, odf2, odf8]).reset_index(drop=True)\n",
    "set(odf['Number of Processors'])\n",
    "odf1.groupby('Number of Processors').mean()"
   ]
  },
  {
   "cell_type": "code",
   "execution_count": 40,
   "id": "f9ad30a0-5a08-4342-afd3-5c45f944f78c",
   "metadata": {},
   "outputs": [
    {
     "data": {
      "text/plain": [
       "<AxesSubplot:xlabel='Number of Processors', ylabel='Total Time'>"
      ]
     },
     "execution_count": 40,
     "metadata": {},
     "output_type": "execute_result"
    },
    {
     "data": {
      "image/png": "[encoded data removed]",
      "text/plain": [
       "<Figure size 432x288 with 1 Axes>"
      ]
     },
     "metadata": {
      "needs_background": "light"
     },
     "output_type": "display_data"
    }
   ],
   "source": [
    "sns.violinplot(x=\"Number of Processors\", y=\"Total Time\", data=odf[(odf[\"Number of Processors\"] < 8)], hue='ODF')\n",
    "# sns.violinplot(x=\"Number of Processors\", y=\"Total Time\", data=odf2[odf2[\"Number of Processors\"] >= 96])"
   ]
  },
  {
   "cell_type": "code",
   "execution_count": 41,
   "id": "38813b48-6c1f-45f4-9721-8ad60b6b1d5d",
   "metadata": {},
   "outputs": [
    {
     "name": "stdout",
     "output_type": "stream",
     "text": [
      "6 MannwhitneyuResult(statistic=20.0, pvalue=0.42857142857142855)\n",
      "6 MannwhitneyuResult(statistic=25.0, pvalue=0.007936507936507936)\n",
      "12 MannwhitneyuResult(statistic=0.0, pvalue=0.007936507936507936)\n",
      "12 MannwhitneyuResult(statistic=0.0, pvalue=0.007936507936507936)\n",
      "24 MannwhitneyuResult(statistic=25.0, pvalue=0.007936507936507936)\n",
      "24 MannwhitneyuResult(statistic=20.0, pvalue=0.15079365079365079)\n",
      "48 MannwhitneyuResult(statistic=10.0, pvalue=0.6904761904761905)\n",
      "48 MannwhitneyuResult(statistic=0.0, pvalue=0.007936507936507936)\n",
      "96 MannwhitneyuResult(statistic=8.0, pvalue=0.42063492063492064)\n",
      "96 MannwhitneyuResult(statistic=0.0, pvalue=0.007936507936507936)\n",
      "192 MannwhitneyuResult(statistic=9.0, pvalue=0.5476190476190477)\n",
      "192 MannwhitneyuResult(statistic=0.0, pvalue=0.007936507936507936)\n"
     ]
    }
   ],
   "source": [
    "for num_p in sorted(set(odf8['Number of Processors'])):\n",
    "    o1_p = odf1[odf1['Number of Processors'] == num_p]\n",
    "    o2_p = odf2[odf2['Number of Processors'] == num_p]\n",
    "    o8_p = odf8[odf8['Number of Processors'] == num_p]\n",
    "    print(num_p,scipy.stats.mannwhitneyu(o1_p['Total Time'], o2_p['Total Time']))\n",
    "    print(num_p,scipy.stats.mannwhitneyu(o1_p['Total Time'], o8_p['Total Time']))"
   ]
  },
  {
   "cell_type": "markdown",
   "id": "8cf81d4e-8abd-4e1c-badb-3c8420206da2",
   "metadata": {},
   "source": [
    "- It doesn't appear that ODF 2 makes a large enough diffference that can be seen at this sample size. \n",
    "- I think that ODF will make a bigger difference at smaller processor counts because the working set of each processor is much larger.\n",
    "    - At 6 processors beginning with 24576^2 grid, each processor has a piece of the grid that's roughly 0.75GiB\n",
    "- Try ODF=8 for 6-192 processors. \n",
    "- Looks like it may make a difference at lower number of processors, but it appears to be slight. For now, move forward with ODF=1."
   ]
  },
  {
   "cell_type": "code",
   "execution_count": null,
   "id": "dcf9b760-f4a2-4eef-81cb-9ab1e7a477bc",
   "metadata": {},
   "outputs": [],
   "source": []
  }
 ],
 "metadata": {
  "kernelspec": {
   "display_name": "Python 3",
   "language": "python",
   "name": "python3"
  },
  "language_info": {
   "codemirror_mode": {
    "name": "ipython",
    "version": 3
   },
   "file_extension": ".py",
   "mimetype": "text/x-python",
   "name": "python",
   "nbconvert_exporter": "python",
   "pygments_lexer": "ipython3",
   "version": "3.7.3"
  }
 },
 "nbformat": 4,
 "nbformat_minor": 5
}
